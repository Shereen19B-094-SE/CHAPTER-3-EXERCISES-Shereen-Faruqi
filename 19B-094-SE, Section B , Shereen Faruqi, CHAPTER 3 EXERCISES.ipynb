{
 "cells": [
  {
   "cell_type": "markdown",
   "metadata": {},
   "source": [
    "## Exercise 3.17"
   ]
  },
  {
   "cell_type": "code",
   "execution_count": 1,
   "metadata": {},
   "outputs": [
    {
     "name": "stdout",
     "output_type": "stream",
     "text": [
      "a.) 7\n",
      "c.) Hello World!\n",
      "d.) 2\n"
     ]
    },
    {
     "ename": "NameError",
     "evalue": "name 'hello' is not defined",
     "output_type": "error",
     "traceback": [
      "\u001b[1;31m---------------------------------------------------------------------------\u001b[0m",
      "\u001b[1;31mNameError\u001b[0m                                 Traceback (most recent call last)",
      "\u001b[1;32m<ipython-input-1-793d036c9116>\u001b[0m in \u001b[0;36m<module>\u001b[1;34m\u001b[0m\n\u001b[0;32m     13\u001b[0m \u001b[1;33m\u001b[0m\u001b[0m\n\u001b[0;32m     14\u001b[0m \u001b[1;31m#Part b:\u001b[0m\u001b[1;33m\u001b[0m\u001b[1;33m\u001b[0m\u001b[1;33m\u001b[0m\u001b[0m\n\u001b[1;32m---> 15\u001b[1;33m \u001b[0mexp2\u001b[0m\u001b[1;33m=\u001b[0m\u001b[0meval\u001b[0m\u001b[1;33m(\u001b[0m\u001b[1;34m'hello'\u001b[0m\u001b[1;33m)\u001b[0m\u001b[1;33m\u001b[0m\u001b[1;33m\u001b[0m\u001b[0m\n\u001b[0m\u001b[0;32m     16\u001b[0m \u001b[0mprint\u001b[0m\u001b[1;33m(\u001b[0m\u001b[0mexp2\u001b[0m\u001b[1;33m)\u001b[0m\u001b[1;33m\u001b[0m\u001b[1;33m\u001b[0m\u001b[0m\n\u001b[0;32m     17\u001b[0m \u001b[1;33m\u001b[0m\u001b[0m\n",
      "\u001b[1;32m<string>\u001b[0m in \u001b[0;36m<module>\u001b[1;34m\u001b[0m\n",
      "\u001b[1;31mNameError\u001b[0m: name 'hello' is not defined"
     ]
    }
   ],
   "source": [
    "#Part a:\n",
    "exp1=eval('2*3+1')\n",
    "print('a.)',exp1)\n",
    "\n",
    "#Part c:\n",
    "exp3=eval(\"'Hello'+' '+'World!'\")\n",
    "print('c.)',exp3)\n",
    "\n",
    "#Part d:\n",
    "exp4=eval(\"'ASCII'.count('I')\")\n",
    "print('d.)',exp4)\n",
    "\n",
    "\n",
    "#Part b:\n",
    "exp2=eval('hello')\n",
    "print(exp2)\n",
    "\n",
    "#Part e:\n",
    "exp5=eval('x=5')\n",
    "print(exp5)"
   ]
  },
  {
   "cell_type": "markdown",
   "metadata": {},
   "source": [
    "### The evaluation in part b results in an error because the eval() function cannot evaluate a single string without involving some sort of concatenation.  The evaluation in part e results in an error because the string itself is not an expression, but rather simply a value of variable x."
   ]
  },
  {
   "cell_type": "markdown",
   "metadata": {},
   "source": [
    "## Exercise 3.18:"
   ]
  },
  {
   "cell_type": "code",
   "execution_count": 5,
   "metadata": {},
   "outputs": [
    {
     "name": "stdout",
     "output_type": "stream",
     "text": [
      "A.) OK\n",
      "B.)\n",
      "C.)\n",
      "D.) OK\n"
     ]
    }
   ],
   "source": [
    "a,b,c=3,4,5\n",
    "\n",
    "#Part a:\n",
    "if a<b:\n",
    "    print('A.)','OK')\n",
    "\n",
    "#Part b:\n",
    "if c<b:\n",
    "    print('OK')\n",
    "print('B.)')\n",
    "#Part c:\n",
    "if a+b==c:\n",
    "    print('OK')\n",
    "print('C.)')    \n",
    "\n",
    "#Part d:\n",
    "if (a**2)+(b**2)==(c**2):\n",
    "    print('D.)','OK')"
   ]
  },
  {
   "cell_type": "markdown",
   "metadata": {},
   "source": [
    "## Exercise 3.19:"
   ]
  },
  {
   "cell_type": "code",
   "execution_count": 6,
   "metadata": {},
   "outputs": [
    {
     "name": "stdout",
     "output_type": "stream",
     "text": [
      "A.) OK\n",
      "B.) NOT OK\n",
      "C.) NOT OK\n",
      "D.) OK\n"
     ]
    }
   ],
   "source": [
    "a,b,c=3,4,5\n",
    "\n",
    "#Part a:\n",
    "if a<b:\n",
    "    print('A.)','OK')\n",
    "else:\n",
    "    print('A.)','NOT OK')\n",
    "    \n",
    "#Part b:\n",
    "if c<b:\n",
    "    print('B.)','OK')\n",
    "else:\n",
    "    print('B.)','NOT OK')\n",
    "\n",
    "#Part c:\n",
    "if a+b==c:\n",
    "    print('C.)','OK')\n",
    "else:\n",
    "    print('C.)','NOT OK')\n",
    "    \n",
    "#Part d:\n",
    "if (a**2)+(b**2)==(c**2):\n",
    "    print('D.)','OK')\n",
    "else:\n",
    "    print('D.)','NOT OK')"
   ]
  },
  {
   "cell_type": "markdown",
   "metadata": {},
   "source": [
    "## Exercise 3.20:"
   ]
  },
  {
   "cell_type": "code",
   "execution_count": 7,
   "metadata": {},
   "outputs": [
    {
     "name": "stdout",
     "output_type": "stream",
     "text": [
      "Jan\n",
      "Feb\n",
      "Mar\n"
     ]
    }
   ],
   "source": [
    "lst=['January','February','March']\n",
    "\n",
    "for letters in lst:\n",
    "        print(letters[:3])"
   ]
  },
  {
   "cell_type": "markdown",
   "metadata": {},
   "source": [
    "## Exercise 3.21:"
   ]
  },
  {
   "cell_type": "code",
   "execution_count": 8,
   "metadata": {},
   "outputs": [
    {
     "name": "stdout",
     "output_type": "stream",
     "text": [
      "10 32 86 84 "
     ]
    }
   ],
   "source": [
    "lst= [10, 21, 32, 45, 86, 73, 84, 97] \n",
    "  \n",
    "for num in lst: \n",
    "    if num % 2 == 0: \n",
    "        print(num, end= \" \") "
   ]
  },
  {
   "cell_type": "markdown",
   "metadata": {},
   "source": [
    "## Exercise 3.22:"
   ]
  },
  {
   "cell_type": "code",
   "execution_count": 9,
   "metadata": {},
   "outputs": [
    {
     "name": "stdout",
     "output_type": "stream",
     "text": [
      "4 8 12 "
     ]
    }
   ],
   "source": [
    "lst=[2,3,4,5,6,7,8,9,10,11,12]\n",
    "\n",
    "for num in lst:\n",
    "    if (num**2)%8==0:\n",
    "        print(num, end=\" \")"
   ]
  },
  {
   "cell_type": "markdown",
   "metadata": {},
   "source": [
    "## Exercise 3.23"
   ]
  },
  {
   "cell_type": "code",
   "execution_count": 30,
   "metadata": {},
   "outputs": [
    {
     "name": "stdout",
     "output_type": "stream",
     "text": [
      "0 1 \n",
      "\n",
      "0\n",
      "\n",
      "\n",
      "3 4 5 6 \n",
      "\n",
      "1\n",
      "\n",
      "\n",
      "0 3 \n",
      "\n",
      "5 9 13 17 21 \n",
      "\n"
     ]
    }
   ],
   "source": [
    "#Part a:\n",
    "for i in range(2):\n",
    "    print(i,end=\" \")\n",
    "print(\"\\n\")   \n",
    "\n",
    "#Part b:\n",
    "for i in range(1):\n",
    "    print(i)\n",
    "print(\"\\n\")\n",
    "\n",
    "#Part c:\n",
    "for i in range(3,7):\n",
    "    print(i,end=\" \")\n",
    "print(\"\\n\")\n",
    "\n",
    "#Part d:\n",
    "for i in range(1,2):\n",
    "    print(i)\n",
    "print(\"\\n\")    \n",
    "\n",
    "#Part e:\n",
    "for i in range(0,4,3):\n",
    "    print(i,end=\" \")\n",
    "print(\"\\n\")  \n",
    "\n",
    "#Part f:\n",
    "for i in range(5,22,4):\n",
    "    print(i,end=\" \")\n",
    "print(\"\\n\")    "
   ]
  },
  {
   "cell_type": "markdown",
   "metadata": {},
   "source": [
    "## Exercise 3.24:"
   ]
  },
  {
   "cell_type": "code",
   "execution_count": 21,
   "metadata": {},
   "outputs": [
    {
     "name": "stdout",
     "output_type": "stream",
     "text": [
      "Word list:['Word1','secret','Word2','secret','Word3']\n",
      "Word1\n",
      "Word2\n",
      "Word3\n"
     ]
    }
   ],
   "source": [
    "words=eval(input('Word list:'))\n",
    "for word in words:\n",
    "    if word!= 'secret':\n",
    "        print (word)\n",
    "      "
   ]
  },
  {
   "cell_type": "markdown",
   "metadata": {},
   "source": [
    "## Exercise 3.25:"
   ]
  },
  {
   "cell_type": "code",
   "execution_count": 16,
   "metadata": {},
   "outputs": [
    {
     "name": "stdout",
     "output_type": "stream",
     "text": [
      "Enter a list:['Ellie','Steve','Sam','Owen','Gavin']\n",
      "Ellie\n",
      "Gavin\n"
     ]
    }
   ],
   "source": [
    "name_list=eval(input('Enter a list:'))    \n",
    "for names in name_list:\n",
    "    if names[0]<='M':\n",
    "        print(names)"
   ]
  },
  {
   "cell_type": "markdown",
   "metadata": {},
   "source": [
    "## Exercise 3.26:"
   ]
  },
  {
   "cell_type": "code",
   "execution_count": 25,
   "metadata": {},
   "outputs": [
    {
     "name": "stdout",
     "output_type": "stream",
     "text": [
      "List of numbers:[3,4,5,6,7,8,9]\n",
      "The first element of the list: 3\n",
      "The last element of the list: 9\n"
     ]
    }
   ],
   "source": [
    "numbers=eval(input('List of numbers:'))\n",
    "print('The first element of the list:',numbers[0])\n",
    "print('The last element of the list:',numbers[-1])"
   ]
  },
  {
   "cell_type": "markdown",
   "metadata": {},
   "source": [
    "## Exercise 3.27:"
   ]
  },
  {
   "cell_type": "code",
   "execution_count": 28,
   "metadata": {},
   "outputs": [
    {
     "name": "stdout",
     "output_type": "stream",
     "text": [
      "Enter a positive integer:8\n",
      "0\n",
      "8\n",
      "16\n",
      "24\n"
     ]
    }
   ],
   "source": [
    "n=eval(input('Enter a positive integer:'))\n",
    "for i in range(4):\n",
    "    print(n*i)\n"
   ]
  },
  {
   "cell_type": "markdown",
   "metadata": {},
   "source": [
    "## Exercise 3.28:"
   ]
  },
  {
   "cell_type": "code",
   "execution_count": 31,
   "metadata": {},
   "outputs": [
    {
     "name": "stdout",
     "output_type": "stream",
     "text": [
      "Enter a positive integer:3\n",
      "0\n",
      "1\n",
      "4\n",
      "9\n"
     ]
    }
   ],
   "source": [
    "n=eval(input('Enter a positive integer:'))\n",
    "for i in range(4):\n",
    "    print(i**2)"
   ]
  },
  {
   "cell_type": "markdown",
   "metadata": {},
   "source": [
    "## Exercise 3.29:"
   ]
  },
  {
   "cell_type": "code",
   "execution_count": 7,
   "metadata": {},
   "outputs": [
    {
     "name": "stdout",
     "output_type": "stream",
     "text": [
      "Enter a positive integer:50\n",
      "1\n",
      "2\n",
      "5\n",
      "10\n",
      "25\n",
      "50\n"
     ]
    }
   ],
   "source": [
    "n=eval(input('Enter a positive integer:'))\n",
    "for i in range(1,n+1):\n",
    "    if n%i==0:\n",
    "        print(i)\n",
    "    "
   ]
  },
  {
   "cell_type": "markdown",
   "metadata": {},
   "source": [
    "## Exercise 3.30:"
   ]
  },
  {
   "cell_type": "code",
   "execution_count": 1,
   "metadata": {},
   "outputs": [
    {
     "name": "stdout",
     "output_type": "stream",
     "text": [
      "Enter the first number:3.5\n",
      "Enter the second number:2\n",
      "Enter the third number:2\n",
      "Enter the last number:2.5\n",
      "Equal\n"
     ]
    }
   ],
   "source": [
    "n1=eval(input('Enter the first number:'))\n",
    "n2=eval(input('Enter the second number:'))\n",
    "n3=eval(input('Enter the third number:'))\n",
    "n4=eval(input('Enter the last number:'))\n",
    "avg=(n1+n2+n3)/(3)\n",
    "if avg==n4:\n",
    "    print('Equal')\n",
    "else:\n",
    "    print('The average and last number are not equal')"
   ]
  },
  {
   "cell_type": "markdown",
   "metadata": {},
   "source": [
    "## Exercise 3.31:"
   ]
  },
  {
   "cell_type": "code",
   "execution_count": 7,
   "metadata": {},
   "outputs": [
    {
     "name": "stdout",
     "output_type": "stream",
     "text": [
      "Enter the x-coordinate value:2\n",
      "Enter the y-coordinate value:4\n",
      "It is in!\n"
     ]
    }
   ],
   "source": [
    "x=eval(input('Enter the x-coordinate value:'))\n",
    "y=eval(input('Enter the y-coordinate value:'))\n",
    "radius=8\n",
    "if x**2+y**2<=8**2:\n",
    "    print('It is in!')\n",
    "else:\n",
    "    print('It is not in.')"
   ]
  },
  {
   "cell_type": "markdown",
   "metadata": {},
   "source": [
    "## Exercise 3.32:"
   ]
  },
  {
   "cell_type": "code",
   "execution_count": 10,
   "metadata": {},
   "outputs": [
    {
     "name": "stdout",
     "output_type": "stream",
     "text": [
      "Enter the four digit number:2568\n",
      "2\n",
      "5\n",
      "6\n",
      "8\n"
     ]
    }
   ],
   "source": [
    "n=int(input('Enter the four digit number:'))\n",
    "num4=n%10\n",
    "num3=(n//10)%10\n",
    "num2=(n//100)%10\n",
    "num1=(n//1000)%10\n",
    "print(num1)\n",
    "print(num2)\n",
    "print(num3)\n",
    "print(num4)"
   ]
  },
  {
   "cell_type": "markdown",
   "metadata": {},
   "source": [
    "## Exercise 3.33:"
   ]
  },
  {
   "cell_type": "code",
   "execution_count": 15,
   "metadata": {},
   "outputs": [
    {
     "data": {
      "text/plain": [
       "'tac'"
      ]
     },
     "execution_count": 15,
     "metadata": {},
     "output_type": "execute_result"
    }
   ],
   "source": [
    "def reverse_string(string):\n",
    "    return string[2]+string[1]+string[0]\n",
    "reverse_string('cat')"
   ]
  },
  {
   "cell_type": "markdown",
   "metadata": {},
   "source": [
    "## Exercise 3.34:\n",
    "    "
   ]
  },
  {
   "cell_type": "code",
   "execution_count": 25,
   "metadata": {},
   "outputs": [
    {
     "data": {
      "text/plain": [
       "712.5"
      ]
     },
     "execution_count": 25,
     "metadata": {},
     "output_type": "execute_result"
    }
   ],
   "source": [
    "def pay(w,h):\n",
    "    p=w*h\n",
    "    if h<=40:\n",
    "        return w*h\n",
    "    else:\n",
    "        return 40*w+(h-40)*1.5*w\n",
    "pay(15,45)"
   ]
  },
  {
   "cell_type": "markdown",
   "metadata": {},
   "source": [
    "## Exercise 3.35:"
   ]
  },
  {
   "cell_type": "code",
   "execution_count": 28,
   "metadata": {},
   "outputs": [
    {
     "data": {
      "text/plain": [
       "0.5"
      ]
     },
     "execution_count": 28,
     "metadata": {},
     "output_type": "execute_result"
    }
   ],
   "source": [
    "def probability(n):\n",
    "    return 2**(-n)\n",
    "probability(1)"
   ]
  },
  {
   "cell_type": "markdown",
   "metadata": {},
   "source": [
    "## Exercise 3.36:"
   ]
  },
  {
   "cell_type": "code",
   "execution_count": 34,
   "metadata": {},
   "outputs": [
    {
     "data": {
      "text/plain": [
       "321"
      ]
     },
     "execution_count": 34,
     "metadata": {},
     "output_type": "execute_result"
    }
   ],
   "source": [
    "def reverse_int(n):\n",
    "    last=n%10\n",
    "    middle=(n//10)%10\n",
    "    first=n//100\n",
    "    return (last*100)+(middle*10)+first\n",
    "reverse_int(123)"
   ]
  },
  {
   "cell_type": "markdown",
   "metadata": {},
   "source": [
    "## Exercise 3.37:"
   ]
  },
  {
   "cell_type": "code",
   "execution_count": 12,
   "metadata": {},
   "outputs": [
    {
     "name": "stdout",
     "output_type": "stream",
     "text": [
      "The slope is 1.0 and the distance is 2.8284271247461903\n",
      "The slope is infinity and the distance is 1.0\n"
     ]
    }
   ],
   "source": [
    "import math\n",
    "def points(x1,y1,x2,y2):\n",
    "#If x1 and x2 are different in value,slope will have a specific value\n",
    "#If both x values are the same, line will be vertical and the slope will be infinity    \n",
    "    if x1!=x2:\n",
    "        slope=(y2-y1)/(x2-x1)\n",
    "    else:\n",
    "        slope='infinity'\n",
    "    \n",
    "    distance=math.sqrt((x2-x1)**2+(y2-y1)**2)   \n",
    "    \n",
    "    print('The slope is'+' '+str(slope)+' '+'and the distance is'+' '+str(distance))\n",
    "points(1,2,3,4)  \n",
    "points(2,3,2,4)"
   ]
  },
  {
   "cell_type": "markdown",
   "metadata": {},
   "source": [
    "## Exercise 3.38:\n",
    "    "
   ]
  },
  {
   "cell_type": "code",
   "execution_count": 24,
   "metadata": {},
   "outputs": [
    {
     "data": {
      "text/plain": [
       "'Mo'"
      ]
     },
     "execution_count": 24,
     "metadata": {},
     "output_type": "execute_result"
    }
   ],
   "source": [
    "def abbreviation(day):\n",
    "        return day[:2]\n",
    "abbreviation('Monday')"
   ]
  },
  {
   "cell_type": "markdown",
   "metadata": {},
   "source": [
    "## Exercise 3.39:"
   ]
  },
  {
   "cell_type": "code",
   "execution_count": 55,
   "metadata": {},
   "outputs": [
    {
     "data": {
      "text/plain": [
       "True"
      ]
     },
     "execution_count": 55,
     "metadata": {},
     "output_type": "execute_result"
    }
   ],
   "source": [
    "def collision(x1,y1,r1,x2,y2,r2):\n",
    "#Formula for checking if 2 circles intersect with each other:\n",
    "    if (x2-x1)**2+(y2-y1)**2<=(r1+r2)**2:\n",
    "        return True\n",
    "    else:\n",
    "        return False\n",
    "collision(0,0,3,0,5,3) "
   ]
  },
  {
   "cell_type": "code",
   "execution_count": 60,
   "metadata": {},
   "outputs": [
    {
     "data": {
      "text/plain": [
       "False"
      ]
     },
     "execution_count": 60,
     "metadata": {},
     "output_type": "execute_result"
    }
   ],
   "source": [
    "collision(0,0,2,4,4,2)"
   ]
  },
  {
   "cell_type": "markdown",
   "metadata": {},
   "source": [
    "## Exercise 3.40:\n",
    "    "
   ]
  },
  {
   "cell_type": "code",
   "execution_count": 34,
   "metadata": {},
   "outputs": [
    {
     "name": "stdout",
     "output_type": "stream",
     "text": [
      "Eleanor\n",
      "Evelyn\n",
      "Gavin\n"
     ]
    }
   ],
   "source": [
    "def partition(name):\n",
    "    for names in name:\n",
    "        if names[0]<='M':\n",
    "            print(names)\n",
    "partition(['Eleanor','Evelyn','Sammy','Owen','Gavin'])"
   ]
  },
  {
   "cell_type": "markdown",
   "metadata": {},
   "source": [
    "## Exercise 3.41:"
   ]
  },
  {
   "cell_type": "code",
   "execution_count": 44,
   "metadata": {},
   "outputs": [
    {
     "data": {
      "text/plain": [
       "'Faruqi,S.'"
      ]
     },
     "execution_count": 44,
     "metadata": {},
     "output_type": "execute_result"
    }
   ],
   "source": [
    "def lastF(FirstName,LastName):\n",
    "    return LastName+','+FirstName[0]+'.'\n",
    "lastF('Shereen','Faruqi')"
   ]
  },
  {
   "cell_type": "markdown",
   "metadata": {},
   "source": [
    "## Exercise 3.42:"
   ]
  },
  {
   "cell_type": "code",
   "execution_count": 48,
   "metadata": {},
   "outputs": [
    {
     "name": "stdout",
     "output_type": "stream",
     "text": [
      "90.0\n",
      "60.0\n",
      "87.0\n",
      "11.0\n"
     ]
    }
   ],
   "source": [
    "def avg(grd_list):\n",
    "#Average=Sum of all the numbers divided by the amount(length) of numbers\n",
    "    for g in grd_list:\n",
    "        average=(sum(g))/len(g)\n",
    "        print(average)\n",
    "avg([[95,92,86,87],[66,54],[89,72,100],[33,0,0]])        "
   ]
  },
  {
   "cell_type": "markdown",
   "metadata": {},
   "source": [
    "## Exercise 3.43:"
   ]
  },
  {
   "cell_type": "code",
   "execution_count": 53,
   "metadata": {},
   "outputs": [
    {
     "data": {
      "text/plain": [
       "True"
      ]
     },
     "execution_count": 53,
     "metadata": {},
     "output_type": "execute_result"
    }
   ],
   "source": [
    "def hit(h,k,radius,xp,yp):\n",
    "    if ((xp-h)**2)+((yp-k)**2)<=radius**2:\n",
    "        return True\n",
    "    else:\n",
    "        return False\n",
    "hit(0,0,3,3,0)"
   ]
  },
  {
   "cell_type": "code",
   "execution_count": 54,
   "metadata": {},
   "outputs": [
    {
     "data": {
      "text/plain": [
       "False"
      ]
     },
     "execution_count": 54,
     "metadata": {},
     "output_type": "execute_result"
    }
   ],
   "source": [
    "hit(0,0,3,4,0)"
   ]
  },
  {
   "cell_type": "markdown",
   "metadata": {},
   "source": [
    "## Exercise 3.44:"
   ]
  },
  {
   "cell_type": "code",
   "execution_count": 61,
   "metadata": {},
   "outputs": [
    {
     "data": {
      "text/plain": [
       "1.0208700000000002"
      ]
     },
     "execution_count": 61,
     "metadata": {},
     "output_type": "execute_result"
    }
   ],
   "source": [
    "#Find the distance to the lighting strike:\n",
    "#Speed of sound is 340.29 m/s and km=m/1000: \n",
    "def distance(time):\n",
    "    return (time*340.29)/1000\n",
    "distance(3)"
   ]
  }
 ],
 "metadata": {
  "kernelspec": {
   "display_name": "Python 3",
   "language": "python",
   "name": "python3"
  },
  "language_info": {
   "codemirror_mode": {
    "name": "ipython",
    "version": 3
   },
   "file_extension": ".py",
   "mimetype": "text/x-python",
   "name": "python",
   "nbconvert_exporter": "python",
   "pygments_lexer": "ipython3",
   "version": "3.7.4"
  }
 },
 "nbformat": 4,
 "nbformat_minor": 2
}
